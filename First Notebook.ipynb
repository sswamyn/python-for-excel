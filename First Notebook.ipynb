{
 "cells": [
  {
   "cell_type": "code",
   "execution_count": 1,
   "id": "26de81bc",
   "metadata": {
    "scrolled": true
   },
   "outputs": [
    {
     "data": {
      "text/plain": [
       "7"
      ]
     },
     "execution_count": 1,
     "metadata": {},
     "output_type": "execute_result"
    }
   ],
   "source": [
    "3 + 4 "
   ]
  },
  {
   "cell_type": "markdown",
   "id": "b4ac81df",
   "metadata": {},
   "source": [
    "# This is a first-level heading\n",
    "\n",
    "## This is a second-level heading\n",
    "\n",
    "You can make your text *italic* or **bold** or `monospaced`.\n",
    "\n",
    "* This is a bullet point\n",
    "* This is another bullet point"
   ]
  },
  {
   "cell_type": "code",
   "execution_count": 2,
   "id": "bd9843a5",
   "metadata": {
    "scrolled": true
   },
   "outputs": [
    {
     "data": {
      "text/plain": [
       "' a text repeat a text repeat a text repeat a text repeat a text repeat a text repeat a text repeat a text repeat'"
      ]
     },
     "execution_count": 2,
     "metadata": {},
     "output_type": "execute_result"
    }
   ],
   "source": [
    "\" a text repeat\"*8"
   ]
  },
  {
   "cell_type": "code",
   "execution_count": 3,
   "id": "7336f400",
   "metadata": {
    "scrolled": true
   },
   "outputs": [
    {
     "data": {
      "text/plain": [
       "'Python is free and open source.'"
      ]
     },
     "execution_count": 3,
     "metadata": {},
     "output_type": "execute_result"
    }
   ],
   "source": [
    "# Note how Python allows you to conveniently assign multiple\n",
    "         # values to multiple variables in a single line\n",
    "first_adjective, second_adjective = \"free\", \"open source\"\n",
    "f\"Python is {first_adjective} and {second_adjective}.\"\n",
    "\n",
    "## f\"Python is {first_adjective} and {second_adjective}.\" \n",
    "## f is printf :) \n"
   ]
  },
  {
   "cell_type": "code",
   "execution_count": 4,
   "id": "4f795866",
   "metadata": {
    "scrolled": true
   },
   "outputs": [
    {
     "data": {
      "text/plain": [
       "'FREE'"
      ]
     },
     "execution_count": 4,
     "metadata": {},
     "output_type": "execute_result"
    }
   ],
   "source": [
    "first_adjective.upper()"
   ]
  },
  {
   "cell_type": "markdown",
   "id": "fa1cb059",
   "metadata": {},
   "source": []
  },
  {
   "cell_type": "markdown",
   "id": "05527f9f",
   "metadata": {},
   "source": [
    "###String is stored as array with index starting at 0 \n",
    "##-1 is the index for the last character in the string \n"
   ]
  },
  {
   "cell_type": "code",
   "execution_count": 5,
   "id": "96d7efd7",
   "metadata": {
    "scrolled": true
   },
   "outputs": [
    {
     "name": "stdout",
     "output_type": "stream",
     "text": [
      "P\n",
      "Y\n",
      "H\n"
     ]
    }
   ],
   "source": [
    "language = \"PYTHON\"\n",
    "print(language[0])\n",
    "print(language[1])\n",
    "print(language[-3])"
   ]
  },
  {
   "cell_type": "code",
   "execution_count": 10,
   "id": "6e0d9d6b",
   "metadata": {
    "scrolled": true
   },
   "outputs": [
    {
     "name": "stdout",
     "output_type": "stream",
     "text": [
      "PYT\n",
      "TH\n"
     ]
    }
   ],
   "source": [
    "##  Slicing of string  \"PYTHON\"\n",
    "# sequence[start:stop:step] \n",
    "##\n",
    "print(language[:3])\n",
    "\n",
    "print(language[2:4])\n"
   ]
  },
  {
   "cell_type": "code",
   "execution_count": 7,
   "id": "e8fffd48",
   "metadata": {
    "scrolled": true
   },
   "outputs": [
    {
     "name": "stdout",
     "output_type": "stream",
     "text": [
      "every second letter\n",
      " > PTO\n"
     ]
    }
   ],
   "source": [
    "##  Slicing of string  \"PYTHON\"\n",
    "# sequence[start:stop:step] \n",
    "##\n",
    "# every second letter\n",
    "print(\"every second letter\")\n",
    "print(\" > \" + language[::2])"
   ]
  },
  {
   "cell_type": "code",
   "execution_count": 8,
   "id": "c0c7e537",
   "metadata": {
    "scrolled": true
   },
   "outputs": [
    {
     "name": "stdout",
     "output_type": "stream",
     "text": [
      "Negative steps using [-1:-4:-1]\n",
      " > NOH\n"
     ]
    }
   ],
   "source": [
    "##  Slicing of string  \"PYTHON\"\n",
    "# sequence[start:stop:step] \n",
    "##\n",
    "\n",
    "# # Negative step goes from right to left\n",
    "print(\"Negative steps using [-1:-4:-1]\")\n",
    "print(\" > \" + language[-1:-4:-1]) # Start from the last character, go till the fourth from the end, at steps on -1 "
   ]
  },
  {
   "cell_type": "markdown",
   "id": "b2d42ebc",
   "metadata": {},
   "source": [
    "#### Python also allows you to chain multiple index and slice operations together. For example, if you want to get the second character out of the last three characters, you could do it like this\n",
    "'language[-3:][1]'"
   ]
  },
  {
   "cell_type": "code",
   "execution_count": 11,
   "id": "474e2c75",
   "metadata": {
    "scrolled": true
   },
   "outputs": [
    {
     "name": "stdout",
     "output_type": "stream",
     "text": [
      "HON\n",
      "O\n",
      "O\n"
     ]
    }
   ],
   "source": [
    "print(language[-3:]) # start from the three character from the last till end of string\n",
    "\n",
    "print(language[-3:][1]) # from the string (sub-string) returned by the first funciton, pick the second character\n",
    "print(language[-2]) # same effect as the above :) "
   ]
  },
  {
   "cell_type": "markdown",
   "id": "84e4c514",
   "metadata": {},
   "source": [
    "##  Lists, Dictionaries, Tuples, and Sets\n",
    "#### List \n",
    "##### Lists hold multiple objects; the objects can be of various *data types*\n"
   ]
  },
  {
   "cell_type": "code",
   "execution_count": 12,
   "id": "a658201f",
   "metadata": {},
   "outputs": [
    {
     "data": {
      "text/plain": [
       "['one.xlsx', 'two.xlsx', 'three.xlsx', 1, 2, 3]"
      ]
     },
     "execution_count": 12,
     "metadata": {},
     "output_type": "execute_result"
    }
   ],
   "source": [
    "# Two lists, one with strings another with integers \n",
    "file_names = [\"one.xlsx\", \"two.xlsx\", \"three.xlsx\"]\n",
    "numbers = [1, 2, 3]\n",
    "# Now let us combine them both into a single list \n",
    "file_names + numbers"
   ]
  },
  {
   "cell_type": "markdown",
   "id": "261a7e1e",
   "metadata": {},
   "source": [
    "#### List are themsleves objects! \n",
    "##### A list can have other lists as it is \"elements\" \n",
    "nested_list = [[1, 2, 3], [4, 5, 6], [7, 8, 9]]  \n",
    "THis is really a 3x3 matrix! \n"
   ]
  },
  {
   "cell_type": "code",
   "execution_count": 14,
   "id": "e1c0ff11",
   "metadata": {},
   "outputs": [
    {
     "data": {
      "text/plain": [
       "[4, 5, 6]"
      ]
     },
     "execution_count": 14,
     "metadata": {},
     "output_type": "execute_result"
    }
   ],
   "source": [
    "cells = [[1, 2, 3],\n",
    "         [4, 5, 6],\n",
    "         [7, 8, 9]]\n",
    "\n",
    "# cells[1] ==> will get us the second row in this matrix, \n",
    "cells[1]\n",
    "\n"
   ]
  },
  {
   "cell_type": "markdown",
   "id": "a1019046",
   "metadata": {},
   "source": [
    "### Updating / changing List object \n",
    ".append(obj) # to add another element to the end of the list \n",
    ".insert(index_loc, obj) ## to insert the obj at the \"index_loc\" index location\n",
    ".pop()  ## to remove the last element and return \n",
    ".del list[index_loc] ## to delete the element from the given location \n",
    "\n",
    "len.list() ## to get the length of the list \n",
    "\n",
    " Using \"in\"  to search the list \n",
    "\"Linda\" in users ## will return TRUE, if there is a string 'Linda', is an element in the list \n",
    "\n",
    ".sort() ## to sort the list of elements \n",
    "\n",
    "#### len() and 'in', can be used directly on String objectsusers\n"
   ]
  },
  {
   "cell_type": "code",
   "execution_count": 26,
   "id": "3ecff5c8",
   "metadata": {
    "scrolled": true
   },
   "outputs": [
    {
     "data": {
      "text/plain": [
       "['Linda', 'Brian']"
      ]
     },
     "execution_count": 26,
     "metadata": {},
     "output_type": "execute_result"
    }
   ],
   "source": [
    "users = [\"Linda\", \"Brian\"]\n",
    "users"
   ]
  },
  {
   "cell_type": "code",
   "execution_count": 27,
   "id": "b69a9de4",
   "metadata": {},
   "outputs": [
    {
     "data": {
      "text/plain": [
       "['Linda', 'Brian', 'Jennifer']"
      ]
     },
     "execution_count": 27,
     "metadata": {},
     "output_type": "execute_result"
    }
   ],
   "source": [
    "users.append(\"Jennifer\")  # Most commonly you add to the end users\n",
    "users"
   ]
  },
  {
   "cell_type": "code",
   "execution_count": 28,
   "id": "63af6284",
   "metadata": {},
   "outputs": [
    {
     "data": {
      "text/plain": [
       "['Kim', 'Linda', 'Brian', 'Jennifer']"
      ]
     },
     "execution_count": 28,
     "metadata": {},
     "output_type": "execute_result"
    }
   ],
   "source": [
    "users.insert(0, \"Kim\")  # Insert \"Kim\" at index 0 in the list users \n",
    "users"
   ]
  },
  {
   "cell_type": "code",
   "execution_count": 29,
   "id": "3deb8873",
   "metadata": {},
   "outputs": [
    {
     "data": {
      "text/plain": [
       "'Jennifer'"
      ]
     },
     "execution_count": 29,
     "metadata": {},
     "output_type": "execute_result"
    }
   ],
   "source": [
    "users.pop()  # Removes and returns the last element by default"
   ]
  },
  {
   "cell_type": "code",
   "execution_count": 30,
   "id": "072764d0",
   "metadata": {},
   "outputs": [
    {
     "data": {
      "text/plain": [
       "['Kim', 'Linda', 'Brian']"
      ]
     },
     "execution_count": 30,
     "metadata": {},
     "output_type": "execute_result"
    }
   ],
   "source": [
    "users # outpput the list "
   ]
  },
  {
   "cell_type": "code",
   "execution_count": 31,
   "id": "9bbf99d3",
   "metadata": {},
   "outputs": [],
   "source": [
    "del users[0]  # del removes an element at the given index"
   ]
  },
  {
   "cell_type": "code",
   "execution_count": 32,
   "id": "497e214c",
   "metadata": {},
   "outputs": [
    {
     "data": {
      "text/plain": [
       "['Linda', 'Brian']"
      ]
     },
     "execution_count": 32,
     "metadata": {},
     "output_type": "execute_result"
    }
   ],
   "source": [
    "users"
   ]
  },
  {
   "cell_type": "markdown",
   "id": "7f7be179",
   "metadata": {},
   "source": [
    "## Dictionaries \n",
    "### Dictionaries map keys to values. You will come across key/value combinations all the time. \n",
    "'exchange_rates = {\"EURUSD\": 1.1152,\n",
    "                           \"GBPUSD\": 1.2454,\n",
    "                           \"AUDUSD\": 0.6161}'"
   ]
  },
  {
   "cell_type": "code",
   "execution_count": 33,
   "id": "7d832476",
   "metadata": {},
   "outputs": [],
   "source": [
    "exchange_rates = {\"EURUSD\": 1.1152,\n",
    "                           \"GBPUSD\": 1.2454,\n",
    "                           \"AUDUSD\": 0.6161}"
   ]
  },
  {
   "cell_type": "markdown",
   "id": "860d8ff0",
   "metadata": {},
   "source": [
    "##### Access a value by 'looking up using the associated \"key\""
   ]
  },
  {
   "cell_type": "code",
   "execution_count": 34,
   "id": "b41e7e70",
   "metadata": {},
   "outputs": [
    {
     "data": {
      "text/plain": [
       "1.1152"
      ]
     },
     "execution_count": 34,
     "metadata": {},
     "output_type": "execute_result"
    }
   ],
   "source": [
    "exchange_rates[\"EURUSD\"]  # Access the EURUSD exchange rate"
   ]
  },
  {
   "cell_type": "code",
   "execution_count": 36,
   "id": "e6154e43",
   "metadata": {},
   "outputs": [
    {
     "data": {
      "text/plain": [
       "{'EURUSD': 1.2, 'GBPUSD': 1.2454, 'AUDUSD': 0.6161}"
      ]
     },
     "execution_count": 36,
     "metadata": {},
     "output_type": "execute_result"
    }
   ],
   "source": [
    "exchange_rates[\"EURUSD\"] = 1.2  # Change an existing value\n",
    "exchange_rates"
   ]
  },
  {
   "cell_type": "code",
   "execution_count": 37,
   "id": "65d79a1f",
   "metadata": {},
   "outputs": [
    {
     "data": {
      "text/plain": [
       "{'EURUSD': 1.2, 'GBPUSD': 1.2454, 'AUDUSD': 0.6161, 'CADUSD': 0.714}"
      ]
     },
     "execution_count": 37,
     "metadata": {},
     "output_type": "execute_result"
    }
   ],
   "source": [
    "exchange_rates[\"CADUSD\"] = 0.714  # Add a new key/value pair\n",
    "exchange_rates"
   ]
  }
 ],
 "metadata": {
  "kernelspec": {
   "display_name": "Python 3",
   "language": "python",
   "name": "python3"
  },
  "language_info": {
   "codemirror_mode": {
    "name": "ipython",
    "version": 3
   },
   "file_extension": ".py",
   "mimetype": "text/x-python",
   "name": "python",
   "nbconvert_exporter": "python",
   "pygments_lexer": "ipython3",
   "version": "3.8.8"
  }
 },
 "nbformat": 4,
 "nbformat_minor": 5
}
